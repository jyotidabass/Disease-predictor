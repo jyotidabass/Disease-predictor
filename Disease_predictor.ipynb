{
  "nbformat": 4,
  "nbformat_minor": 0,
  "metadata": {
    "colab": {
      "name": "Disease predictor.ipynb",
      "provenance": [],
      "authorship_tag": "ABX9TyN4j0XXr4sPZATCBBET69aw",
      "include_colab_link": true
    },
    "kernelspec": {
      "name": "python3",
      "display_name": "Python 3"
    },
    "language_info": {
      "name": "python"
    }
  },
  "cells": [
    {
      "cell_type": "markdown",
      "metadata": {
        "id": "view-in-github",
        "colab_type": "text"
      },
      "source": [
        "<a href=\"https://colab.research.google.com/github/jyotidabass/Disease-predictor/blob/main/Disease_predictor.ipynb\" target=\"_parent\"><img src=\"https://colab.research.google.com/assets/colab-badge.svg\" alt=\"Open In Colab\"/></a>"
      ]
    },
    {
      "cell_type": "code",
      "execution_count": 3,
      "metadata": {
        "colab": {
          "base_uri": "https://localhost:8080/"
        },
        "id": "3TJDqu_Omi69",
        "outputId": "75458d34-9f1d-4304-e4d1-1d7e53713782"
      },
      "outputs": [
        {
          "output_type": "stream",
          "name": "stdout",
          "text": [
            "Requirement already satisfied: pymysql in /usr/local/lib/python3.7/dist-packages (1.0.2)\n",
            "Symptoms by user:  ['fever', 'weakness', 'headache']\n",
            "\n",
            "You might be suffering from:  Food Poisoning\n"
          ]
        }
      ],
      "source": [
        "!pip install pymysql\n",
        "import io\n",
        "import pymysql\n",
        "# STEPS:\n",
        "# data from DB(bridge table);\n",
        "# populate that data in List of Array;\n",
        "# check most match with symptoms;\n",
        "\n",
        "## fetch data from junction table\n",
        "## connection work\n",
        "# conn = pymysql.connect(host='localhost', user='root', password='', db='HealthSystem')\n",
        "# a = conn.cursor()\n",
        "##end connection work\n",
        "inputValueArr = ['fever','weakness','headache'] # input by patient\n",
        "\n",
        "## Query\n",
        "# sql = 'SELECT D.disease_name, S.symptom_name FROM diseases AS D JOIN disease_symptoms_bridgetable AS DC ON D.disease_id = DC.disease_id JOIN symptoms AS S ON S.symptom_id = DC.symptom_id'\n",
        "# a.execute(sql)\n",
        "# data = a.fetchall()\n",
        "# data = (('Influenza', 'fever'), ('Influenza', 'cough'), ('Influenza', 'headache'), ('Influenza', 'sore throat'), ('FoodPoisoning', 'vomiting'), ('FoodPoisoning', 'weakness'), ('FoodPoisoning', 'fever'), ('Food Poisoning', 'V'), ('Food Poisoning', 'W'), ('Food Poisoning', 'F'))\n",
        "        ####### OR #######\n",
        "## list = [disease, symptom1, symptom2....]\n",
        "list = [['Influenza', 'cough', 'headache', 'sore throat'],\n",
        "        ['Food Poisoning', 'weakness', 'fever','sore throat','headache'],\n",
        "        ['eating or weight problems', 'W', 'fever'],\n",
        "        ['lung problems','cough with blood','shortness of breath'],\n",
        "        ['skin problems','redness of face','moles on skin'],\n",
        "        ['Diarrhea','watery stool','vomiting','abdominal cramps','belly pain']]\n",
        "\n",
        "val = 0\n",
        "thisdisease = \"\"\n",
        "percentArr = []\n",
        "inputVal = 0\n",
        "\n",
        "for i in range(3):\n",
        "    for inputVal in inputValueArr:\n",
        "        # print(inputVal)\n",
        "        if inputVal in list[i]:\n",
        "            val = val + 1\n",
        "    percentArr.append(val)\n",
        "    val = 0\n",
        "\n",
        "highestPerValueFound = max(percentArr)\n",
        "mostSuitableDiseasecount = percentArr.index(highestPerValueFound)\n",
        "\n",
        "thisdisease = list[mostSuitableDiseasecount][0]\n",
        "print(\"Symptoms by user: \",inputValueArr)\n",
        "print(\"\\nYou might be suffering from: \",thisdisease)"
      ]
    }
  ]
}